{
  "nbformat": 4,
  "nbformat_minor": 0,
  "metadata": {
    "colab": {
      "provenance": [],
      "machine_shape": "hm"
    },
    "kernelspec": {
      "name": "python3",
      "display_name": "Python 3"
    },
    "language_info": {
      "name": "python"
    },
    "gpuClass": "standard"
  },
  "cells": [
    {
      "cell_type": "markdown",
      "source": [
        "## Kaggle Setup"
      ],
      "metadata": {
        "id": "22MWeE_t-OE2"
      }
    },
    {
      "cell_type": "code",
      "source": [
        "!pip install --upgrade --force-reinstall --no-deps kaggle==1.5.8\n",
        "!mkdir /root/.kaggle\n",
        "\n",
        "with open(\"/root/.kaggle/kaggle.json\", \"w+\") as f:\n",
        "    f.write('{\"username\":\"ll0406\",\"key\":\"fa4830570075c294db90b927a8ca9fe8\"}') \n",
        "    # Put your kaggle username & key here\n",
        "\n",
        "!chmod 600 /root/.kaggle/kaggle.json\n",
        "\n",
        "!pip install --upgrade --force-reinstall --no-deps kaggle==1.5.8\n",
        "!mkdir /root/.kaggle\n",
        "\n",
        "with open(\"/root/.kaggle/kaggle.json\", \"w+\") as f:\n",
        "    f.write('{\"username\":\"ll0406\",\"key\":\"fa4830570075c294db90b927a8ca9fe8\"}') \n",
        "    # Put your kaggle username & key here\n",
        "\n",
        "!chmod 600 /root/.kaggle/kaggle.json"
      ],
      "metadata": {
        "colab": {
          "base_uri": "https://localhost:8080/"
        },
        "id": "4YkjNx2w-HV9",
        "outputId": "f320de92-739a-4288-c727-4360f3906d2c"
      },
      "execution_count": 2,
      "outputs": [
        {
          "output_type": "stream",
          "name": "stdout",
          "text": [
            "Looking in indexes: https://pypi.org/simple, https://us-python.pkg.dev/colab-wheels/public/simple/\n",
            "Collecting kaggle==1.5.8\n",
            "  Downloading kaggle-1.5.8.tar.gz (59 kB)\n",
            "\u001b[2K     \u001b[90m━━━━━━━━━━━━━━━━━━━━━━━━━━━━━━━━━━━━━━━━\u001b[0m \u001b[32m59.2/59.2 kB\u001b[0m \u001b[31m1.3 MB/s\u001b[0m eta \u001b[36m0:00:00\u001b[0m\n",
            "\u001b[?25h  Preparing metadata (setup.py) ... \u001b[?25l\u001b[?25hdone\n",
            "Building wheels for collected packages: kaggle\n",
            "  Building wheel for kaggle (setup.py) ... \u001b[?25l\u001b[?25hdone\n",
            "  Created wheel for kaggle: filename=kaggle-1.5.8-py3-none-any.whl size=73272 sha256=8911b6ae2009446a7479d721efff1bda806dc22810b0a4c92feef73b387bbf1a\n",
            "  Stored in directory: /root/.cache/pip/wheels/d4/02/ef/3f8c8d86b8d5388a1d3155876837f1a1a3143ab3fc2ff1ffad\n",
            "Successfully built kaggle\n",
            "Installing collected packages: kaggle\n",
            "  Attempting uninstall: kaggle\n",
            "    Found existing installation: kaggle 1.5.13\n",
            "    Uninstalling kaggle-1.5.13:\n",
            "      Successfully uninstalled kaggle-1.5.13\n",
            "Successfully installed kaggle-1.5.8\n",
            "Looking in indexes: https://pypi.org/simple, https://us-python.pkg.dev/colab-wheels/public/simple/\n",
            "Collecting kaggle==1.5.8\n",
            "  Using cached kaggle-1.5.8-py3-none-any.whl\n",
            "Installing collected packages: kaggle\n",
            "  Attempting uninstall: kaggle\n",
            "    Found existing installation: kaggle 1.5.8\n",
            "    Uninstalling kaggle-1.5.8:\n",
            "      Successfully uninstalled kaggle-1.5.8\n",
            "Successfully installed kaggle-1.5.8\n",
            "mkdir: cannot create directory ‘/root/.kaggle’: File exists\n"
          ]
        }
      ]
    },
    {
      "cell_type": "markdown",
      "source": [
        "## Data Download"
      ],
      "metadata": {
        "id": "e6dD1XQc-XPB"
      }
    },
    {
      "cell_type": "code",
      "source": [
        "!kaggle competitions download -c m5-forecasting-accuracy\n",
        "!mkdir '/content/data'\n",
        "\n",
        "!unzip -qo 'm5-forecasting-accuracy.zip' -d '/content/data'"
      ],
      "metadata": {
        "colab": {
          "base_uri": "https://localhost:8080/"
        },
        "id": "tulubYpn-WqN",
        "outputId": "129c25dc-8716-4f3a-e293-9b13563cd874"
      },
      "execution_count": 3,
      "outputs": [
        {
          "output_type": "stream",
          "name": "stdout",
          "text": [
            "Downloading m5-forecasting-accuracy.zip to /content\n",
            " 96% 44.0M/45.8M [00:03<00:00, 20.9MB/s]\n",
            "100% 45.8M/45.8M [00:03<00:00, 14.6MB/s]\n"
          ]
        }
      ]
    },
    {
      "cell_type": "markdown",
      "source": [
        "### Library Import"
      ],
      "metadata": {
        "id": "8BDONJcP-j5P"
      }
    },
    {
      "cell_type": "code",
      "execution_count": 4,
      "metadata": {
        "id": "R2nTUBc9-GEe"
      },
      "outputs": [],
      "source": [
        "import os\n",
        "import gc\n",
        "import time\n",
        "import math\n",
        "import datetime\n",
        "from math import log, floor\n",
        "from sklearn.neighbors import KDTree\n",
        "\n",
        "import numpy as np\n",
        "import pandas as pd\n",
        "from pathlib import Path\n",
        "from sklearn.utils import shuffle\n",
        "from tqdm.notebook import tqdm as tqdm\n",
        "\n",
        "import seaborn as sns\n",
        "from matplotlib import colors\n",
        "import matplotlib.pyplot as plt\n",
        "from matplotlib.colors import Normalize\n",
        "\n",
        "import plotly.express as px\n",
        "import plotly.graph_objects as go\n",
        "import plotly.figure_factory as ff\n",
        "from plotly.subplots import make_subplots\n",
        "\n",
        "import pywt\n",
        "from statsmodels.robust import mad\n",
        "\n",
        "import scipy\n",
        "import statsmodels\n",
        "from scipy import signal\n",
        "from scipy.special import ndtri\n",
        "import statsmodels.api as sm\n",
        "from scipy.signal import butter, deconvolve\n",
        "from statsmodels.tsa.arima_model import ARIMA\n",
        "from statsmodels.tsa.api import ExponentialSmoothing, SimpleExpSmoothing, Holt\n",
        "\n",
        "import warnings\n",
        "warnings.filterwarnings(\"ignore\")"
      ]
    },
    {
      "cell_type": "markdown",
      "source": [
        "## Load data\n"
      ],
      "metadata": {
        "id": "uwaeqyeI-w-i"
      }
    },
    {
      "cell_type": "code",
      "source": [
        "INPUT_DIR = './data'\n",
        "calendar = pd.read_csv(f'{INPUT_DIR}/calendar.csv')\n",
        "selling_prices = pd.read_csv(f'{INPUT_DIR}/sell_prices.csv')\n",
        "sample_submission = pd.read_csv(f'{INPUT_DIR}/sample_submission.csv')\n",
        "sales_train_val = pd.read_csv(f'{INPUT_DIR}/sales_train_validation.csv')"
      ],
      "metadata": {
        "id": "ei9IGatO_R1d"
      },
      "execution_count": 5,
      "outputs": []
    },
    {
      "cell_type": "code",
      "source": [
        "ids = sorted(list(set(sales_train_val['id'])))\n",
        "d_cols = [c for c in sales_train_val.columns if 'd_' in c]\n",
        "x_1 = sales_train_val.loc[sales_train_val['id'] == ids[2]].set_index('id')[d_cols].values[0]\n",
        "x_2 = sales_train_val.loc[sales_train_val['id'] == ids[1]].set_index('id')[d_cols].values[0]\n",
        "x_3 = sales_train_val.loc[sales_train_val['id'] == ids[17]].set_index('id')[d_cols].values[0]"
      ],
      "metadata": {
        "id": "haRY0wbeIkzx"
      },
      "execution_count": 6,
      "outputs": []
    },
    {
      "cell_type": "markdown",
      "source": [
        "## Inventory Preparation\n"
      ],
      "metadata": {
        "id": "DWMyaLbH-wlA"
      }
    },
    {
      "cell_type": "code",
      "source": [
        "EXAMPLE_SALES = x_1[-365:] # Use last year demand as example\n",
        "print(len(EXAMPLE_SALES))\n",
        "\n",
        "def gen_perfect_forecast(sales, forecast_period, leadtime):\n",
        "    forecast = []\n",
        "    for i in range(0, len(sales) - leadtime + 1):\n",
        "        forecast_start = i\n",
        "        forecast_end = min(len(sales), i + forecast_period)\n",
        "        forecast.append(sales[forecast_start:forecast_end])\n",
        "    \n",
        "    return forecast\n",
        "\n",
        "perfect_forecast = gen_perfect_forecast(EXAMPLE_SALES, 28, 5)\n"
      ],
      "metadata": {
        "colab": {
          "base_uri": "https://localhost:8080/"
        },
        "id": "Age2WP8YIndM",
        "outputId": "b54a8a81-de08-439b-a63a-8b27babfe2d5"
      },
      "execution_count": 22,
      "outputs": [
        {
          "output_type": "stream",
          "name": "stdout",
          "text": [
            "365\n"
          ]
        }
      ]
    },
    {
      "cell_type": "code",
      "source": [
        "class SingleItemSimulate:\n",
        "    def __init__(self, demand, forecast, leadtime, desired_alpha=0.99):\n",
        "        self.demand = demand\n",
        "        self.forecast = forecast\n",
        "        self.leadtime = leadtime\n",
        "\n",
        "        self.inventory_points = []\n",
        "        self.net_inventory = []\n",
        "        self.wip_inventory = []\n",
        "        self.orders = []\n",
        "\n",
        "        self.forecast_err = []\n",
        "        self.forecast_err_variation = 0\n",
        "        self.forecast_err_exp_smooth_alpha = 0.8\n",
        "\n",
        "        self.sim_duration = len(demand) - 28 \n",
        "\n",
        "        self.desired_service_level = desired_alpha\n",
        "        self.newsvendor_multiplier = ndtri(desired_alpha)\n",
        "\n",
        "    def get_lead_time_forecasted_demand(self, t):\n",
        "        \"\"\"Get forecasted_demand at time t\n",
        "        \"\"\"\n",
        "        forecast_at_t = self.forecast[t]\n",
        "        lead_time_demand = sum(forecast_at_t[0:self.leadtime])\n",
        "        return lead_time_demand\n",
        "    \n",
        "    def run(self):\n",
        "        for t in range(0, self.sim_duration):\n",
        "            # Calculate leadtime forecasted demand\n",
        "            lead_time_forecasted_demand = self.get_lead_time_forecasted_demand(t)\n",
        "\n",
        "            # Update forecast error if t >= leadtime\n",
        "            if t >= self.leadtime:\n",
        "                actual_past_leadtime_demand_t = sum(self.demand[t-self.leadtime:t])\n",
        "                forecasted_past_leadtime_demand_t = sum(self.forecast[t-self.leadtime][0:self.leadtime])\n",
        "                err = actual_past_leadtime_demand_t - forecasted_past_leadtime_demand_t\n",
        "                self.forecast_err.append(np.abs(err))\n",
        "\n",
        "                # Update forecast err variation use exponential smoothing\n",
        "                previous_forecast_err_variation = self.forecast_err_variation\n",
        "                current_forecast_err_std = np.std(self.forecast_err)\n",
        "                self.forecast_err_variation = self.forecast_err_exp_smooth_alpha * current_forecast_err_std + (1-self.forecast_err_exp_smooth_alpha) * previous_forecast_err_variation\n",
        "            \n",
        "            # Calculate inventory point\n",
        "            yesterday_inventory_point = 0 if t < 1 else self.inventory_points[t-1]\n",
        "            yesterday_order = 0 if t < 1 else self.orders[t-1]\n",
        "            today_inventory_point = yesterday_inventory_point + yesterday_order - self.demand[t]\n",
        "            self.inventory_points.append(today_inventory_point)\n",
        "\n",
        "            # Calculate order\n",
        "            order = lead_time_forecasted_demand + self.forecast_err_variation * self.newsvendor_multiplier - self.inventory_points[t]\n",
        "            self.orders.append(order)\n",
        "\n",
        "            # Calculate net inventory and WIP inventory\n",
        "            yesterday_net_inventory = 0 if t < 1 else self.net_inventory[t-1]\n",
        "            last_leadtime_order = 0 if t < self.leadtime else self.orders[t-self.leadtime]\n",
        "            net_inventory = yesterday_net_inventory + last_leadtime_order - self.demand[t]\n",
        "            \n",
        "            yesterday_wip_inventory = 0 if t < 1 else self.wip_inventory[t-1]\n",
        "            wip_inventory = yesterday_wip_inventory + yesterday_order - last_leadtime_order\n",
        "\n",
        "            self.net_inventory.append(net_inventory)\n",
        "            self.wip_inventory.append(wip_inventory)\n",
        "\n",
        "    def calculate_performance(self):\n",
        "        \"\"\"Calculate the performance metrics for the inventory operation\n",
        "        \"\"\"\n",
        "        holding_cost = 0\n",
        "        for ni in self.net_inventory:\n",
        "            if ni > 0:\n",
        "                holding_cost += ni\n",
        "        order_variance = np.var(self.orders)\n",
        "        achieved_service_level = 1 - float((np.array(self.net_inventory) < 0).sum()) / len(self.net_inventory)\n",
        "\n",
        "        return holding_cost, order_variance, achieved_service_level\n"
      ],
      "metadata": {
        "id": "fmriuygjnPf_"
      },
      "execution_count": 33,
      "outputs": []
    },
    {
      "cell_type": "code",
      "source": [
        "print(EXAMPLE_SALES[0:5])\n",
        "print(perfect_forecast[5-5][0:5])"
      ],
      "metadata": {
        "colab": {
          "base_uri": "https://localhost:8080/"
        },
        "id": "FHs3EGljBwHm",
        "outputId": "963588d9-9b79-48b5-c6e5-344b761773a9"
      },
      "execution_count": 30,
      "outputs": [
        {
          "output_type": "stream",
          "name": "stdout",
          "text": [
            "[0 0 0 0 1]\n",
            "[0 0 0 0 1]\n"
          ]
        }
      ]
    },
    {
      "cell_type": "code",
      "source": [
        "simulate = SingleItemSimulate(EXAMPLE_SALES, perfect_forecast, 5, desired_alpha=0.999)\n",
        "simulate.run()\n",
        "simulate.calculate_performance()"
      ],
      "metadata": {
        "colab": {
          "base_uri": "https://localhost:8080/"
        },
        "id": "d17v-q_mKHR7",
        "outputId": "9352dd14-a616-470c-8513-6dd3672f1dcd"
      },
      "execution_count": 35,
      "outputs": [
        {
          "output_type": "execute_result",
          "data": {
            "text/plain": [
              "(252.0, 17.367873275277585, 0.7299703264094956)"
            ]
          },
          "metadata": {},
          "execution_count": 35
        }
      ]
    }
  ]
}